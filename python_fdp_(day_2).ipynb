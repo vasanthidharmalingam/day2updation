{
  "cells": [
    {
      "cell_type": "markdown",
      "metadata": {
        "id": "view-in-github",
        "colab_type": "text"
      },
      "source": [
        "<a href=\"https://colab.research.google.com/github/vasanthidharmalingam/day2updation/blob/main/python_fdp_(day_2).ipynb\" target=\"_parent\"><img src=\"https://colab.research.google.com/assets/colab-badge.svg\" alt=\"Open In Colab\"/></a>"
      ]
    },
    {
      "cell_type": "code",
      "execution_count": null,
      "id": "7c9cee28-8404-42bf-93fc-3616e474870d",
      "metadata": {
        "id": "7c9cee28-8404-42bf-93fc-3616e474870d",
        "outputId": "311528c4-825f-4289-de56-92c5e31dee53"
      },
      "outputs": [
        {
          "name": "stdout",
          "output_type": "stream",
          "text": [
            "i\n",
            "False\n"
          ]
        }
      ],
      "source": [
        "my_str=\"vasanthi\"\n",
        "print(my_str[7])\n",
        "print(\"A\" in my_str)"
      ]
    },
    {
      "cell_type": "code",
      "execution_count": null,
      "id": "8e0f9c39-7946-4440-a472-6d53f0259fb5",
      "metadata": {
        "id": "8e0f9c39-7946-4440-a472-6d53f0259fb5",
        "outputId": "06dca56d-a38d-4c1f-d33f-c14738ee8d97"
      },
      "outputs": [
        {
          "name": "stdout",
          "output_type": "stream",
          "text": [
            "[1 2 3 4 5]\n"
          ]
        }
      ],
      "source": [
        "import numpy as np\n",
        "arr1=np.array([1,2,3,4,5])\n",
        "print(arr1)"
      ]
    },
    {
      "cell_type": "code",
      "execution_count": null,
      "id": "715032ff-ce93-4ec8-a276-c107bda46988",
      "metadata": {
        "id": "715032ff-ce93-4ec8-a276-c107bda46988",
        "outputId": "e9cf94fc-97a9-4da4-c3d4-d945645ef90a"
      },
      "outputs": [
        {
          "name": "stdout",
          "output_type": "stream",
          "text": [
            "[0]\n"
          ]
        }
      ],
      "source": [
        "arr1=np.arange(1)\n",
        "print(arr1)"
      ]
    },
    {
      "cell_type": "code",
      "execution_count": null,
      "id": "785134e7-78b3-4d0d-a997-0f3be5741c85",
      "metadata": {
        "id": "785134e7-78b3-4d0d-a997-0f3be5741c85",
        "outputId": "d7e83ee3-e5cb-457b-ac75-34466facaa79"
      },
      "outputs": [
        {
          "name": "stdout",
          "output_type": "stream",
          "text": [
            "[[0. 0. 0.]\n",
            " [0. 0. 0.]\n",
            " [0. 0. 0.]]\n",
            "[[1. 1. 1.]\n",
            " [1. 1. 1.]]\n"
          ]
        }
      ],
      "source": [
        "arr1=np.zeros((3,3))\n",
        "arr2=np.ones((2,3))\n",
        "print(arr1)\n",
        "print(arr2)"
      ]
    },
    {
      "cell_type": "code",
      "execution_count": null,
      "id": "aceaaa2b-a4bb-48d1-bdb4-c1996a3e19c6",
      "metadata": {
        "colab": {
          "base_uri": "https://localhost:8080/"
        },
        "id": "aceaaa2b-a4bb-48d1-bdb4-c1996a3e19c6",
        "outputId": "ab2e179a-533c-4a98-caeb-49041aad15bf"
      },
      "outputs": [
        {
          "output_type": "stream",
          "name": "stdout",
          "text": [
            "[101 202 303 404 505]\n",
            "[ 100  400  900 1600 2500]\n",
            "[0.01 0.01 0.01 0.01 0.01]\n",
            "(2, 2)\n",
            "5\n",
            "int32\n",
            "[1.         1.41421356 1.73205081 2.         2.23606798]\n"
          ]
        }
      ],
      "source": [
        "import numpy as np\n",
        "arr0=np.array([[1,2],[2,3]],dtype='int32')\n",
        "arr1=np.array([1,2,3,4,5])\n",
        "arr2=np.array([100,200,300,400,500])\n",
        "arr3=arr1+arr2\n",
        "print(arr3)\n",
        "arr4=arr1*arr2\n",
        "print(arr4)\n",
        "arr5=arr1/arr2\n",
        "print(arr5)\n",
        "print(arr0.shape)\n",
        "print(arr2.size)\n",
        "print(arr0.dtype)\n",
        "print(np.sqrt(arr1))"
      ]
    },
    {
      "cell_type": "code",
      "execution_count": null,
      "id": "f563e400-5e8d-4026-8af0-45548dbfb5fa",
      "metadata": {
        "id": "f563e400-5e8d-4026-8af0-45548dbfb5fa",
        "colab": {
          "base_uri": "https://localhost:8080/"
        },
        "outputId": "fceb9528-6d59-4ed7-dcfb-cd3507cfe096"
      },
      "outputs": [
        {
          "output_type": "stream",
          "name": "stdout",
          "text": [
            "Help on ufunc:\n",
            "\n",
            "sqrt = <ufunc 'sqrt'>\n",
            "    sqrt(x, /, out=None, *, where=True, casting='same_kind', order='K', dtype=None, subok=True[, signature, extobj])\n",
            "    \n",
            "    Return the non-negative square-root of an array, element-wise.\n",
            "    \n",
            "    Parameters\n",
            "    ----------\n",
            "    x : array_like\n",
            "        The values whose square-roots are required.\n",
            "    out : ndarray, None, or tuple of ndarray and None, optional\n",
            "        A location into which the result is stored. If provided, it must have\n",
            "        a shape that the inputs broadcast to. If not provided or None,\n",
            "        a freshly-allocated array is returned. A tuple (possible only as a\n",
            "        keyword argument) must have length equal to the number of outputs.\n",
            "    where : array_like, optional\n",
            "        This condition is broadcast over the input. At locations where the\n",
            "        condition is True, the `out` array will be set to the ufunc result.\n",
            "        Elsewhere, the `out` array will retain its original value.\n",
            "        Note that if an uninitialized `out` array is created via the default\n",
            "        ``out=None``, locations within it where the condition is False will\n",
            "        remain uninitialized.\n",
            "    **kwargs\n",
            "        For other keyword-only arguments, see the\n",
            "        :ref:`ufunc docs <ufuncs.kwargs>`.\n",
            "    \n",
            "    Returns\n",
            "    -------\n",
            "    y : ndarray\n",
            "        An array of the same shape as `x`, containing the positive\n",
            "        square-root of each element in `x`.  If any element in `x` is\n",
            "        complex, a complex array is returned (and the square-roots of\n",
            "        negative reals are calculated).  If all of the elements in `x`\n",
            "        are real, so is `y`, with negative elements returning ``nan``.\n",
            "        If `out` was provided, `y` is a reference to it.\n",
            "        This is a scalar if `x` is a scalar.\n",
            "    \n",
            "    See Also\n",
            "    --------\n",
            "    emath.sqrt\n",
            "        A version which returns complex numbers when given negative reals.\n",
            "        Note that 0.0 and -0.0 are handled differently for complex inputs.\n",
            "    \n",
            "    Notes\n",
            "    -----\n",
            "    *sqrt* has--consistent with common convention--as its branch cut the\n",
            "    real \"interval\" [`-inf`, 0), and is continuous from above on it.\n",
            "    A branch cut is a curve in the complex plane across which a given\n",
            "    complex function fails to be continuous.\n",
            "    \n",
            "    Examples\n",
            "    --------\n",
            "    >>> np.sqrt([1,4,9])\n",
            "    array([ 1.,  2.,  3.])\n",
            "    \n",
            "    >>> np.sqrt([4, -1, -3+4J])\n",
            "    array([ 2.+0.j,  0.+1.j,  1.+2.j])\n",
            "    \n",
            "    >>> np.sqrt([4, -1, np.inf])\n",
            "    array([ 2., nan, inf])\n",
            "\n"
          ]
        }
      ],
      "source": [
        "help(np.sqrt)"
      ]
    },
    {
      "cell_type": "code",
      "source": [
        "import numpy as np\n",
        "arr1=np.array([1,2,3,4,5],[1,2,3,4,5])\n",
        "print(arr1[0,0])"
      ],
      "metadata": {
        "colab": {
          "base_uri": "https://localhost:8080/",
          "height": 176
        },
        "id": "CinNAv4sx6Sa",
        "outputId": "aeaf588e-2974-499d-8669-ff9df7cf0579"
      },
      "id": "CinNAv4sx6Sa",
      "execution_count": null,
      "outputs": [
        {
          "output_type": "error",
          "ename": "TypeError",
          "evalue": "Field elements must be 2- or 3-tuples, got '1'",
          "traceback": [
            "\u001b[0;31m---------------------------------------------------------------------------\u001b[0m",
            "\u001b[0;31mTypeError\u001b[0m                                 Traceback (most recent call last)",
            "\u001b[0;32m<ipython-input-13-637426f60e8a>\u001b[0m in \u001b[0;36m<cell line: 2>\u001b[0;34m()\u001b[0m\n\u001b[1;32m      1\u001b[0m \u001b[0;32mimport\u001b[0m \u001b[0mnumpy\u001b[0m \u001b[0;32mas\u001b[0m \u001b[0mnp\u001b[0m\u001b[0;34m\u001b[0m\u001b[0;34m\u001b[0m\u001b[0m\n\u001b[0;32m----> 2\u001b[0;31m \u001b[0marr1\u001b[0m\u001b[0;34m=\u001b[0m\u001b[0mnp\u001b[0m\u001b[0;34m.\u001b[0m\u001b[0marray\u001b[0m\u001b[0;34m(\u001b[0m\u001b[0;34m[\u001b[0m\u001b[0;36m1\u001b[0m\u001b[0;34m,\u001b[0m\u001b[0;36m2\u001b[0m\u001b[0;34m,\u001b[0m\u001b[0;36m3\u001b[0m\u001b[0;34m,\u001b[0m\u001b[0;36m4\u001b[0m\u001b[0;34m,\u001b[0m\u001b[0;36m5\u001b[0m\u001b[0;34m]\u001b[0m\u001b[0;34m,\u001b[0m\u001b[0;34m[\u001b[0m\u001b[0;36m1\u001b[0m\u001b[0;34m,\u001b[0m\u001b[0;36m2\u001b[0m\u001b[0;34m,\u001b[0m\u001b[0;36m3\u001b[0m\u001b[0;34m,\u001b[0m\u001b[0;36m4\u001b[0m\u001b[0;34m,\u001b[0m\u001b[0;36m5\u001b[0m\u001b[0;34m]\u001b[0m\u001b[0;34m)\u001b[0m\u001b[0;34m\u001b[0m\u001b[0;34m\u001b[0m\u001b[0m\n\u001b[0m\u001b[1;32m      3\u001b[0m \u001b[0mprint\u001b[0m\u001b[0;34m(\u001b[0m\u001b[0marr1\u001b[0m\u001b[0;34m[\u001b[0m\u001b[0;36m0\u001b[0m\u001b[0;34m,\u001b[0m\u001b[0;36m0\u001b[0m\u001b[0;34m]\u001b[0m\u001b[0;34m)\u001b[0m\u001b[0;34m\u001b[0m\u001b[0;34m\u001b[0m\u001b[0m\n",
            "\u001b[0;31mTypeError\u001b[0m: Field elements must be 2- or 3-tuples, got '1'"
          ]
        }
      ]
    },
    {
      "cell_type": "code",
      "source": [
        "a = np.array([1,2,3], dtype='int64')\n",
        "print(a)\n",
        "print(a.dtype)"
      ],
      "metadata": {
        "colab": {
          "base_uri": "https://localhost:8080/"
        },
        "id": "qNFT1WDoAqvG",
        "outputId": "7a94cabf-76db-417e-c7cb-5baa7467fa42"
      },
      "id": "qNFT1WDoAqvG",
      "execution_count": null,
      "outputs": [
        {
          "output_type": "stream",
          "name": "stdout",
          "text": [
            "[1 2 3]\n",
            "int64\n"
          ]
        }
      ]
    },
    {
      "cell_type": "code",
      "source": [
        "b = np.array([[1,2,3],[4,5,6],[7,8,9]])\n",
        "print(b)"
      ],
      "metadata": {
        "colab": {
          "base_uri": "https://localhost:8080/"
        },
        "id": "eeHyqK_q9q4h",
        "outputId": "f5da2ff6-2f7e-4884-c357-73c740e9ec2b"
      },
      "id": "eeHyqK_q9q4h",
      "execution_count": null,
      "outputs": [
        {
          "output_type": "stream",
          "name": "stdout",
          "text": [
            "[[1 2 3]\n",
            " [4 5 6]\n",
            " [7 8 9]]\n"
          ]
        }
      ]
    },
    {
      "cell_type": "code",
      "source": [
        "b.ndim"
      ],
      "metadata": {
        "colab": {
          "base_uri": "https://localhost:8080/"
        },
        "id": "CBQihilM9-bi",
        "outputId": "ea9f1cb4-0dd3-4268-afca-b722adb19d87"
      },
      "id": "CBQihilM9-bi",
      "execution_count": null,
      "outputs": [
        {
          "output_type": "execute_result",
          "data": {
            "text/plain": [
              "2"
            ]
          },
          "metadata": {},
          "execution_count": 18
        }
      ]
    },
    {
      "cell_type": "code",
      "source": [
        "a.shape"
      ],
      "metadata": {
        "colab": {
          "base_uri": "https://localhost:8080/"
        },
        "id": "Fqsc3T-PAnPI",
        "outputId": "09cb2065-0a6f-473f-c5a9-f53e87348113"
      },
      "id": "Fqsc3T-PAnPI",
      "execution_count": null,
      "outputs": [
        {
          "output_type": "execute_result",
          "data": {
            "text/plain": [
              "(3,)"
            ]
          },
          "metadata": {},
          "execution_count": 20
        }
      ]
    },
    {
      "cell_type": "code",
      "source": [
        "a.dtype"
      ],
      "metadata": {
        "colab": {
          "base_uri": "https://localhost:8080/"
        },
        "id": "qQ9vnN5hAvNk",
        "outputId": "4a55629a-171c-4b83-d24c-281f79b8380d"
      },
      "id": "qQ9vnN5hAvNk",
      "execution_count": null,
      "outputs": [
        {
          "output_type": "execute_result",
          "data": {
            "text/plain": [
              "dtype('int64')"
            ]
          },
          "metadata": {},
          "execution_count": 21
        }
      ]
    },
    {
      "cell_type": "code",
      "source": [
        "a.itemsize"
      ],
      "metadata": {
        "colab": {
          "base_uri": "https://localhost:8080/"
        },
        "id": "lSYDY8cSAyR7",
        "outputId": "a47c1853-f263-4b89-bba3-4dd959fc6257"
      },
      "id": "lSYDY8cSAyR7",
      "execution_count": null,
      "outputs": [
        {
          "output_type": "execute_result",
          "data": {
            "text/plain": [
              "8"
            ]
          },
          "metadata": {},
          "execution_count": 29
        }
      ]
    },
    {
      "cell_type": "code",
      "source": [
        "b.nbytes"
      ],
      "metadata": {
        "colab": {
          "base_uri": "https://localhost:8080/"
        },
        "id": "ffWmLThpBPcO",
        "outputId": "85d5c271-8896-482c-c8c3-814dc724aead"
      },
      "id": "ffWmLThpBPcO",
      "execution_count": null,
      "outputs": [
        {
          "output_type": "execute_result",
          "data": {
            "text/plain": [
              "72"
            ]
          },
          "metadata": {},
          "execution_count": 32
        }
      ]
    },
    {
      "cell_type": "code",
      "source": [],
      "metadata": {
        "id": "qjZYcFWOCJcT"
      },
      "id": "qjZYcFWOCJcT",
      "execution_count": null,
      "outputs": []
    },
    {
      "cell_type": "code",
      "source": [
        "b[2,2]"
      ],
      "metadata": {
        "colab": {
          "base_uri": "https://localhost:8080/"
        },
        "id": "aIBERkkNCatl",
        "outputId": "8f4a49c4-a975-4ed8-9b07-42de45d7da54"
      },
      "id": "aIBERkkNCatl",
      "execution_count": null,
      "outputs": [
        {
          "output_type": "execute_result",
          "data": {
            "text/plain": [
              "9"
            ]
          },
          "metadata": {},
          "execution_count": 39
        }
      ]
    },
    {
      "cell_type": "code",
      "source": [
        "import numpy as np\n",
        "b = np.array([[1,2,3],[4,5,6],[7,8,9]], dtype='int64')\n",
        "print(b)\n",
        "b.itemsize"
      ],
      "metadata": {
        "colab": {
          "base_uri": "https://localhost:8080/"
        },
        "id": "WkJHF1enA4Zg",
        "outputId": "f4f01b49-2883-4a3e-fbdd-e13231b92354"
      },
      "id": "WkJHF1enA4Zg",
      "execution_count": null,
      "outputs": [
        {
          "output_type": "stream",
          "name": "stdout",
          "text": [
            "[[1 2 3]\n",
            " [4 5 6]\n",
            " [7 8 9]]\n"
          ]
        },
        {
          "output_type": "execute_result",
          "data": {
            "text/plain": [
              "8"
            ]
          },
          "metadata": {},
          "execution_count": 10
        }
      ]
    },
    {
      "cell_type": "code",
      "source": [
        "np.full((2,2),3)"
      ],
      "metadata": {
        "colab": {
          "base_uri": "https://localhost:8080/"
        },
        "id": "APEpfXMgCDzG",
        "outputId": "af0fcfc3-30f3-49db-b597-76299630ff5b"
      },
      "id": "APEpfXMgCDzG",
      "execution_count": null,
      "outputs": [
        {
          "output_type": "execute_result",
          "data": {
            "text/plain": [
              "array([[3, 3],\n",
              "       [3, 3]])"
            ]
          },
          "metadata": {},
          "execution_count": 12
        }
      ]
    },
    {
      "cell_type": "code",
      "source": [
        "a = np.array([1,2,3], dtype='int64')\n",
        "np.full_like(a, 99)"
      ],
      "metadata": {
        "colab": {
          "base_uri": "https://localhost:8080/"
        },
        "id": "ramr1zVbCKPs",
        "outputId": "97ba3387-91ef-4d91-9fff-30b67ad368e9"
      },
      "id": "ramr1zVbCKPs",
      "execution_count": null,
      "outputs": [
        {
          "output_type": "execute_result",
          "data": {
            "text/plain": [
              "array([99, 99, 99])"
            ]
          },
          "metadata": {},
          "execution_count": 18
        }
      ]
    },
    {
      "cell_type": "code",
      "source": [
        "np.random.rand(2,4)"
      ],
      "metadata": {
        "colab": {
          "base_uri": "https://localhost:8080/"
        },
        "id": "xlMjDKciCh8O",
        "outputId": "e154a5ac-9828-4320-ebfe-0fd3ddded69d"
      },
      "id": "xlMjDKciCh8O",
      "execution_count": null,
      "outputs": [
        {
          "output_type": "execute_result",
          "data": {
            "text/plain": [
              "array([[0.57634196, 0.03995698, 0.666967  , 0.68328999],\n",
              "       [0.39803732, 0.88857641, 0.91996905, 0.4851974 ]])"
            ]
          },
          "metadata": {},
          "execution_count": 19
        }
      ]
    },
    {
      "cell_type": "markdown",
      "source": [],
      "metadata": {
        "id": "IcUJMcI3Ch0O"
      },
      "id": "IcUJMcI3Ch0O"
    },
    {
      "cell_type": "code",
      "source": [
        "np.random.randint(0,4, size=(2,3))"
      ],
      "metadata": {
        "colab": {
          "base_uri": "https://localhost:8080/"
        },
        "id": "CUDOmUQ2Ct2-",
        "outputId": "23c590c9-8e2f-4d1e-99bb-054d238ee9f7"
      },
      "id": "CUDOmUQ2Ct2-",
      "execution_count": null,
      "outputs": [
        {
          "output_type": "execute_result",
          "data": {
            "text/plain": [
              "array([[2, 0, 3],\n",
              "       [1, 1, 0]])"
            ]
          },
          "metadata": {},
          "execution_count": 23
        }
      ]
    },
    {
      "cell_type": "markdown",
      "source": [],
      "metadata": {
        "id": "BdC2sA9OCtry"
      },
      "id": "BdC2sA9OCtry"
    },
    {
      "cell_type": "code",
      "source": [
        "output=np.zeros((7,7))\n",
        "print(output)"
      ],
      "metadata": {
        "colab": {
          "base_uri": "https://localhost:8080/"
        },
        "id": "ZFcxY8QRDPjO",
        "outputId": "89645927-c8b3-4c75-a2a8-919de9160c77"
      },
      "id": "ZFcxY8QRDPjO",
      "execution_count": null,
      "outputs": [
        {
          "output_type": "stream",
          "name": "stdout",
          "text": [
            "[[0. 0. 0. 0. 0. 0. 0.]\n",
            " [0. 0. 0. 0. 0. 0. 0.]\n",
            " [0. 0. 0. 0. 0. 0. 0.]\n",
            " [0. 0. 0. 0. 0. 0. 0.]\n",
            " [0. 0. 0. 0. 0. 0. 0.]\n",
            " [0. 0. 0. 0. 0. 0. 0.]\n",
            " [0. 0. 0. 0. 0. 0. 0.]]\n"
          ]
        }
      ]
    },
    {
      "cell_type": "code",
      "source": [
        "x=np.ones((3,3))\n",
        "x[2,2]=7\n",
        "print(x)"
      ],
      "metadata": {
        "colab": {
          "base_uri": "https://localhost:8080/"
        },
        "id": "e8jKRJlhDPIN",
        "outputId": "a9750138-2c27-4e88-f758-f16b2c52327c"
      },
      "id": "e8jKRJlhDPIN",
      "execution_count": null,
      "outputs": [
        {
          "output_type": "stream",
          "name": "stdout",
          "text": [
            "[[1. 1. 1.]\n",
            " [1. 1. 1.]\n",
            " [1. 1. 7.]]\n"
          ]
        }
      ]
    },
    {
      "cell_type": "code",
      "source": [],
      "metadata": {
        "id": "WXgmYd35DeID"
      },
      "id": "WXgmYd35DeID",
      "execution_count": null,
      "outputs": []
    },
    {
      "cell_type": "code",
      "source": [
        "output[2:-2,2:-2]=x\n",
        "print(output)"
      ],
      "metadata": {
        "colab": {
          "base_uri": "https://localhost:8080/"
        },
        "id": "1XK8FL9ZDq9A",
        "outputId": "a111e05f-26b4-46dd-f787-3013b48eef6c"
      },
      "id": "1XK8FL9ZDq9A",
      "execution_count": null,
      "outputs": [
        {
          "output_type": "stream",
          "name": "stdout",
          "text": [
            "[[0. 0. 0. 0. 0. 0. 0.]\n",
            " [0. 0. 0. 0. 0. 0. 0.]\n",
            " [0. 0. 1. 1. 1. 0. 0.]\n",
            " [0. 0. 1. 1. 1. 0. 0.]\n",
            " [0. 0. 1. 1. 7. 0. 0.]\n",
            " [0. 0. 0. 0. 0. 0. 0.]\n",
            " [0. 0. 0. 0. 0. 0. 0.]]\n"
          ]
        }
      ]
    },
    {
      "cell_type": "code",
      "source": [
        "a=np.array([1,2,3])\n",
        "b=a.copy()\n",
        "b[0]=10\n",
        "print(a)"
      ],
      "metadata": {
        "colab": {
          "base_uri": "https://localhost:8080/"
        },
        "id": "zOauCSVtDd53",
        "outputId": "60d4658b-d2f8-4003-e277-3784583b2aa9"
      },
      "id": "zOauCSVtDd53",
      "execution_count": null,
      "outputs": [
        {
          "output_type": "stream",
          "name": "stdout",
          "text": [
            "[1 2 3]\n"
          ]
        }
      ]
    },
    {
      "cell_type": "code",
      "source": [],
      "metadata": {
        "id": "pBlbkp6VGd8Q"
      },
      "id": "pBlbkp6VGd8Q",
      "execution_count": null,
      "outputs": []
    },
    {
      "cell_type": "code",
      "source": [],
      "metadata": {
        "id": "tGxYdHx3Gd5V"
      },
      "id": "tGxYdHx3Gd5V",
      "execution_count": null,
      "outputs": []
    }
  ],
  "metadata": {
    "kernelspec": {
      "display_name": "Python 3 (ipykernel)",
      "language": "python",
      "name": "python3"
    },
    "language_info": {
      "codemirror_mode": {
        "name": "ipython",
        "version": 3
      },
      "file_extension": ".py",
      "mimetype": "text/x-python",
      "name": "python",
      "nbconvert_exporter": "python",
      "pygments_lexer": "ipython3",
      "version": "3.11.7"
    },
    "colab": {
      "provenance": [],
      "include_colab_link": true
    }
  },
  "nbformat": 4,
  "nbformat_minor": 5
}